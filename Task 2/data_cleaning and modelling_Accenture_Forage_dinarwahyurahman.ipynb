{
  "cells": [
    {
      "cell_type": "markdown",
      "metadata": {
        "id": "ONJzLh-ULf6g"
      },
      "source": [
        "## **Personal Information**\n",
        "\n",
        "**Nama**: Dinar Wahyu Rahman\n",
        "\n",
        "**Email**: dinarrahman30@gmail.com\n",
        "\n",
        "**LinkedIn**: **[Dinar Wahyu Rahman](https://www.linkedin.com/in/dinar-wahyu-rahman/)**\n",
        "\n",
        "**Github**: https://www.github.com/dinarrahman30/"
      ]
    },
    {
      "cell_type": "markdown",
      "metadata": {
        "id": "ULbW9YtXLqa-"
      },
      "source": [
        "![Accenture](https://enggsolution.com/faculty/imgs/news/Accenture%20hiring.png)\n",
        "\n",
        "# **Accenture North America - Data Cleaning and Modeling**\n",
        "\n",
        "\n",
        "#### clarify why you made this selection:\n",
        "\n",
        "* The brief carefully it states that the client wanted to see “An analysis of their content categories showing the top 5 categories with the largest popularity”.\n",
        "* As explained in the data model, popularity is quantified by the “Score” given to each reaction type.\n",
        "* We therefore need data showing the content ID, category, content type, reaction type, and reaction score.\n",
        "* So, to figure out popularity, we’ll have to add up which content categories have the largest score."
      ]
    },
    {
      "cell_type": "markdown",
      "metadata": {},
      "source": [
        "### **Data Cleaning**"
      ]
    },
    {
      "cell_type": "markdown",
      "metadata": {},
      "source": [
        "##### Open Data"
      ]
    },
    {
      "cell_type": "code",
      "execution_count": 2,
      "metadata": {
        "id": "jtOMKKBjLzyM"
      },
      "outputs": [],
      "source": [
        "# import library\n",
        "import pandas as pd\n",
        "import numpy as np\n",
        "import os"
      ]
    },
    {
      "cell_type": "code",
      "execution_count": 3,
      "metadata": {
        "id": "CYuE1I-8LzoE"
      },
      "outputs": [
        {
          "name": "stdout",
          "output_type": "stream",
          "text": [
            "D:\\ACCENTURE NORTH AMERICA\\Task 2\\Resource\\Content.csv\n",
            "D:\\ACCENTURE NORTH AMERICA\\Task 2\\Resource\\Reactions.csv\n",
            "D:\\ACCENTURE NORTH AMERICA\\Task 2\\Resource\\ReactionTypes.csv\n"
          ]
        }
      ],
      "source": [
        "# import dataset from csv file\n",
        "for dirname, _, filenames in os.walk('D:\\ACCENTURE NORTH AMERICA\\Task 2\\Resource'): # open files\n",
        "    for filename in filenames:\n",
        "        print(os.path.join(dirname, filename))\n",
        "\n",
        "content = pd.read_csv('D:\\ACCENTURE NORTH AMERICA\\Task 2\\Resource\\Content.csv', sep=';')\n",
        "reaction = pd.read_csv('D:\\ACCENTURE NORTH AMERICA\\Task 2\\Resource\\Reactions.csv', sep=';')\n",
        "reaction_type = pd.read_csv('D:\\ACCENTURE NORTH AMERICA\\Task 2\\Resource\\ReactionTypes.csv', sep=';')"
      ]
    },
    {
      "cell_type": "code",
      "execution_count": 4,
      "metadata": {},
      "outputs": [
        {
          "data": {
            "text/html": [
              "<div>\n",
              "<style scoped>\n",
              "    .dataframe tbody tr th:only-of-type {\n",
              "        vertical-align: middle;\n",
              "    }\n",
              "\n",
              "    .dataframe tbody tr th {\n",
              "        vertical-align: top;\n",
              "    }\n",
              "\n",
              "    .dataframe thead th {\n",
              "        text-align: right;\n",
              "    }\n",
              "</style>\n",
              "<table border=\"1\" class=\"dataframe\">\n",
              "  <thead>\n",
              "    <tr style=\"text-align: right;\">\n",
              "      <th></th>\n",
              "      <th>Unnamed: 0</th>\n",
              "      <th>Content IDE</th>\n",
              "      <th>User IDE</th>\n",
              "      <th>Type</th>\n",
              "      <th>Category</th>\n",
              "      <th>URL</th>\n",
              "    </tr>\n",
              "  </thead>\n",
              "  <tbody>\n",
              "    <tr>\n",
              "      <th>0</th>\n",
              "      <td>0</td>\n",
              "      <td>97522e57-d9ab-4bd6-97bf-c24d952602d2</td>\n",
              "      <td>8d3cd87d-8a31-4935-9a4f-b319bfe05f31</td>\n",
              "      <td>photo</td>\n",
              "      <td>Studying</td>\n",
              "      <td>https://socialbuzz.cdn.com/content/storage/975...</td>\n",
              "    </tr>\n",
              "    <tr>\n",
              "      <th>1</th>\n",
              "      <td>1</td>\n",
              "      <td>9f737e0a-3cdd-4d29-9d24-753f4e3be810</td>\n",
              "      <td>beb1f34e-7870-46d6-9fc7-2e12eb83ce43</td>\n",
              "      <td>photo</td>\n",
              "      <td>healthy eating</td>\n",
              "      <td>https://socialbuzz.cdn.com/content/storage/9f7...</td>\n",
              "    </tr>\n",
              "    <tr>\n",
              "      <th>2</th>\n",
              "      <td>2</td>\n",
              "      <td>230c4e4d-70c3-461d-b42c-ec09396efb3f</td>\n",
              "      <td>a5c65404-5894-4b87-82f2-d787cbee86b4</td>\n",
              "      <td>photo</td>\n",
              "      <td>healthy eating</td>\n",
              "      <td>https://socialbuzz.cdn.com/content/storage/230...</td>\n",
              "    </tr>\n",
              "    <tr>\n",
              "      <th>3</th>\n",
              "      <td>3</td>\n",
              "      <td>356fff80-da4d-4785-9f43-bc1261031dc6</td>\n",
              "      <td>9fb4ce88-fac1-406c-8544-1a899cee7aaf</td>\n",
              "      <td>photo</td>\n",
              "      <td>technology</td>\n",
              "      <td>https://socialbuzz.cdn.com/content/storage/356...</td>\n",
              "    </tr>\n",
              "    <tr>\n",
              "      <th>4</th>\n",
              "      <td>4</td>\n",
              "      <td>01ab84dd-6364-4236-abbb-3f237db77180</td>\n",
              "      <td>e206e31b-5f85-4964-b6ea-d7ee5324def1</td>\n",
              "      <td>video</td>\n",
              "      <td>food</td>\n",
              "      <td>https://socialbuzz.cdn.com/content/storage/01a...</td>\n",
              "    </tr>\n",
              "  </tbody>\n",
              "</table>\n",
              "</div>"
            ],
            "text/plain": [
              "  Unnamed: 0                           Content IDE  \\\n",
              "0          0  97522e57-d9ab-4bd6-97bf-c24d952602d2   \n",
              "1          1  9f737e0a-3cdd-4d29-9d24-753f4e3be810   \n",
              "2          2  230c4e4d-70c3-461d-b42c-ec09396efb3f   \n",
              "3          3  356fff80-da4d-4785-9f43-bc1261031dc6   \n",
              "4          4  01ab84dd-6364-4236-abbb-3f237db77180   \n",
              "\n",
              "                               User IDE   Type        Category  \\\n",
              "0  8d3cd87d-8a31-4935-9a4f-b319bfe05f31  photo        Studying   \n",
              "1  beb1f34e-7870-46d6-9fc7-2e12eb83ce43  photo  healthy eating   \n",
              "2  a5c65404-5894-4b87-82f2-d787cbee86b4  photo  healthy eating   \n",
              "3  9fb4ce88-fac1-406c-8544-1a899cee7aaf  photo      technology   \n",
              "4  e206e31b-5f85-4964-b6ea-d7ee5324def1  video            food   \n",
              "\n",
              "                                                 URL  \n",
              "0  https://socialbuzz.cdn.com/content/storage/975...  \n",
              "1  https://socialbuzz.cdn.com/content/storage/9f7...  \n",
              "2  https://socialbuzz.cdn.com/content/storage/230...  \n",
              "3  https://socialbuzz.cdn.com/content/storage/356...  \n",
              "4  https://socialbuzz.cdn.com/content/storage/01a...  "
            ]
          },
          "execution_count": 4,
          "metadata": {},
          "output_type": "execute_result"
        }
      ],
      "source": [
        "content.head()"
      ]
    },
    {
      "cell_type": "code",
      "execution_count": 5,
      "metadata": {},
      "outputs": [
        {
          "data": {
            "text/html": [
              "<div>\n",
              "<style scoped>\n",
              "    .dataframe tbody tr th:only-of-type {\n",
              "        vertical-align: middle;\n",
              "    }\n",
              "\n",
              "    .dataframe tbody tr th {\n",
              "        vertical-align: top;\n",
              "    }\n",
              "\n",
              "    .dataframe thead th {\n",
              "        text-align: right;\n",
              "    }\n",
              "</style>\n",
              "<table border=\"1\" class=\"dataframe\">\n",
              "  <thead>\n",
              "    <tr style=\"text-align: right;\">\n",
              "      <th></th>\n",
              "      <th>Unnamed: 0</th>\n",
              "      <th>Content IDE</th>\n",
              "      <th>User IDE</th>\n",
              "      <th>Type</th>\n",
              "      <th>Datetime</th>\n",
              "    </tr>\n",
              "  </thead>\n",
              "  <tbody>\n",
              "    <tr>\n",
              "      <th>0</th>\n",
              "      <td>0</td>\n",
              "      <td>97522e57-d9ab-4bd6-97bf-c24d952602d2</td>\n",
              "      <td>NaN</td>\n",
              "      <td>NaN</td>\n",
              "      <td>22/04/2021 15.17</td>\n",
              "    </tr>\n",
              "    <tr>\n",
              "      <th>1</th>\n",
              "      <td>1</td>\n",
              "      <td>97522e57-d9ab-4bd6-97bf-c24d952602d2</td>\n",
              "      <td>5d454588-283d-459d-915d-c48a2cb4c27f</td>\n",
              "      <td>disgust</td>\n",
              "      <td>07/11/2020 09.43</td>\n",
              "    </tr>\n",
              "    <tr>\n",
              "      <th>2</th>\n",
              "      <td>2</td>\n",
              "      <td>97522e57-d9ab-4bd6-97bf-c24d952602d2</td>\n",
              "      <td>92b87fa5-f271-43e0-af66-84fac21052e6</td>\n",
              "      <td>dislike</td>\n",
              "      <td>17/06/2021 12.22</td>\n",
              "    </tr>\n",
              "    <tr>\n",
              "      <th>3</th>\n",
              "      <td>3</td>\n",
              "      <td>97522e57-d9ab-4bd6-97bf-c24d952602d2</td>\n",
              "      <td>163daa38-8b77-48c9-9af6-37a6c1447ac2</td>\n",
              "      <td>scared</td>\n",
              "      <td>18/04/2021 05.13</td>\n",
              "    </tr>\n",
              "    <tr>\n",
              "      <th>4</th>\n",
              "      <td>4</td>\n",
              "      <td>97522e57-d9ab-4bd6-97bf-c24d952602d2</td>\n",
              "      <td>34e8add9-0206-47fd-a501-037b994650a2</td>\n",
              "      <td>disgust</td>\n",
              "      <td>06/01/2021 19.13</td>\n",
              "    </tr>\n",
              "  </tbody>\n",
              "</table>\n",
              "</div>"
            ],
            "text/plain": [
              "  Unnamed: 0                           Content IDE  \\\n",
              "0          0  97522e57-d9ab-4bd6-97bf-c24d952602d2   \n",
              "1          1  97522e57-d9ab-4bd6-97bf-c24d952602d2   \n",
              "2          2  97522e57-d9ab-4bd6-97bf-c24d952602d2   \n",
              "3          3  97522e57-d9ab-4bd6-97bf-c24d952602d2   \n",
              "4          4  97522e57-d9ab-4bd6-97bf-c24d952602d2   \n",
              "\n",
              "                               User IDE     Type          Datetime  \n",
              "0                                   NaN      NaN  22/04/2021 15.17  \n",
              "1  5d454588-283d-459d-915d-c48a2cb4c27f  disgust  07/11/2020 09.43  \n",
              "2  92b87fa5-f271-43e0-af66-84fac21052e6  dislike  17/06/2021 12.22  \n",
              "3  163daa38-8b77-48c9-9af6-37a6c1447ac2   scared  18/04/2021 05.13  \n",
              "4  34e8add9-0206-47fd-a501-037b994650a2  disgust  06/01/2021 19.13  "
            ]
          },
          "execution_count": 5,
          "metadata": {},
          "output_type": "execute_result"
        }
      ],
      "source": [
        "reaction.head()"
      ]
    },
    {
      "cell_type": "code",
      "execution_count": 6,
      "metadata": {},
      "outputs": [
        {
          "data": {
            "text/html": [
              "<div>\n",
              "<style scoped>\n",
              "    .dataframe tbody tr th:only-of-type {\n",
              "        vertical-align: middle;\n",
              "    }\n",
              "\n",
              "    .dataframe tbody tr th {\n",
              "        vertical-align: top;\n",
              "    }\n",
              "\n",
              "    .dataframe thead th {\n",
              "        text-align: right;\n",
              "    }\n",
              "</style>\n",
              "<table border=\"1\" class=\"dataframe\">\n",
              "  <thead>\n",
              "    <tr style=\"text-align: right;\">\n",
              "      <th></th>\n",
              "      <th>Unnamed: 0</th>\n",
              "      <th>Type</th>\n",
              "      <th>Sentiment</th>\n",
              "      <th>Score</th>\n",
              "    </tr>\n",
              "  </thead>\n",
              "  <tbody>\n",
              "    <tr>\n",
              "      <th>0</th>\n",
              "      <td>0</td>\n",
              "      <td>heart</td>\n",
              "      <td>positive</td>\n",
              "      <td>60</td>\n",
              "    </tr>\n",
              "    <tr>\n",
              "      <th>1</th>\n",
              "      <td>1</td>\n",
              "      <td>want</td>\n",
              "      <td>positive</td>\n",
              "      <td>70</td>\n",
              "    </tr>\n",
              "    <tr>\n",
              "      <th>2</th>\n",
              "      <td>2</td>\n",
              "      <td>disgust</td>\n",
              "      <td>negative</td>\n",
              "      <td>0</td>\n",
              "    </tr>\n",
              "    <tr>\n",
              "      <th>3</th>\n",
              "      <td>3</td>\n",
              "      <td>hate</td>\n",
              "      <td>negative</td>\n",
              "      <td>5</td>\n",
              "    </tr>\n",
              "    <tr>\n",
              "      <th>4</th>\n",
              "      <td>4</td>\n",
              "      <td>interested</td>\n",
              "      <td>positive</td>\n",
              "      <td>30</td>\n",
              "    </tr>\n",
              "  </tbody>\n",
              "</table>\n",
              "</div>"
            ],
            "text/plain": [
              "   Unnamed: 0        Type Sentiment  Score\n",
              "0           0       heart  positive     60\n",
              "1           1        want  positive     70\n",
              "2           2     disgust  negative      0\n",
              "3           3        hate  negative      5\n",
              "4           4  interested  positive     30"
            ]
          },
          "execution_count": 6,
          "metadata": {},
          "output_type": "execute_result"
        }
      ],
      "source": [
        "reaction_type.head()"
      ]
    },
    {
      "cell_type": "markdown",
      "metadata": {},
      "source": [
        "##### Checking Missing Value"
      ]
    },
    {
      "cell_type": "code",
      "execution_count": 7,
      "metadata": {},
      "outputs": [
        {
          "name": "stdout",
          "output_type": "stream",
          "text": [
            "Missing Values in Dataset 1:\n",
            "Unnamed: 0       0\n",
            "Content IDE      0\n",
            "User IDE         0\n",
            "Type             0\n",
            "Category         0\n",
            "URL            199\n",
            "dtype: int64\n",
            "\n",
            "Missing Values in Dataset 2:\n",
            "Unnamed: 0        0\n",
            "Content IDE       0\n",
            "User IDE       3019\n",
            "Type            980\n",
            "Datetime          0\n",
            "dtype: int64\n",
            "\n",
            "Missing Values in Dataset 3:\n",
            "Unnamed: 0    0\n",
            "Type          0\n",
            "Sentiment     0\n",
            "Score         0\n",
            "dtype: int64\n"
          ]
        }
      ],
      "source": [
        "# Check for missing values\n",
        "mv_content = content.isnull().sum()\n",
        "mv_reaction = reaction.isnull().sum()\n",
        "mv_reaction_type = reaction_type.isnull().sum()\n",
        "\n",
        "# Print or handle the results\n",
        "print(\"Missing Values in Dataset 1:\")\n",
        "print(mv_content)\n",
        "\n",
        "print(\"\\nMissing Values in Dataset 2:\")\n",
        "print(mv_reaction)\n",
        "\n",
        "print(\"\\nMissing Values in Dataset 3:\")\n",
        "print(mv_reaction_type)"
      ]
    },
    {
      "cell_type": "markdown",
      "metadata": {},
      "source": [
        "##### Clean Dataset"
      ]
    },
    {
      "cell_type": "code",
      "execution_count": 8,
      "metadata": {
        "id": "t00nz6Z3LzdR"
      },
      "outputs": [
        {
          "name": "stdout",
          "output_type": "stream",
          "text": [
            "Dataset 1 cleaned shape: (801, 6)\n",
            "Dataset 2 cleaned shape: (22534, 5)\n",
            "Dataset 3 cleaned shape: (16, 4)\n"
          ]
        }
      ],
      "source": [
        "# Handling missing values\n",
        "df1_cleaned = content.dropna()  # Drop rows with any missing values\n",
        "df2_cleaned = reaction.dropna()\n",
        "df3_cleaned = reaction_type.dropna()\n",
        "\n",
        "# Print cleaned data or further processing\n",
        "print(\"Dataset 1 cleaned shape:\", df1_cleaned.shape)\n",
        "print(\"Dataset 2 cleaned shape:\", df2_cleaned.shape)\n",
        "print(\"Dataset 3 cleaned shape:\", df3_cleaned.shape)"
      ]
    },
    {
      "cell_type": "code",
      "execution_count": 9,
      "metadata": {},
      "outputs": [
        {
          "name": "stdout",
          "output_type": "stream",
          "text": [
            "Missing Values in Dataset 1:\n",
            "Unnamed: 0     0\n",
            "Content IDE    0\n",
            "User IDE       0\n",
            "Type           0\n",
            "Category       0\n",
            "URL            0\n",
            "dtype: int64\n",
            "\n",
            "Missing Values in Dataset 2:\n",
            "Unnamed: 0     0\n",
            "Content IDE    0\n",
            "User IDE       0\n",
            "Type           0\n",
            "Datetime       0\n",
            "dtype: int64\n",
            "\n",
            "Missing Values in Dataset 3:\n",
            "Unnamed: 0    0\n",
            "Type          0\n",
            "Sentiment     0\n",
            "Score         0\n",
            "dtype: int64\n"
          ]
        }
      ],
      "source": [
        "# Check again for missing values\n",
        "mv_content = df1_cleaned.isnull().sum()\n",
        "mv_reaction = df2_cleaned.isnull().sum()\n",
        "mv_reaction_type = df3_cleaned.isnull().sum()\n",
        "\n",
        "# Print or handle the results\n",
        "print(\"Missing Values in Dataset 1:\")\n",
        "print(mv_content)\n",
        "\n",
        "print(\"\\nMissing Values in Dataset 2:\")\n",
        "print(mv_reaction)\n",
        "\n",
        "print(\"\\nMissing Values in Dataset 3:\")\n",
        "print(mv_reaction_type)"
      ]
    },
    {
      "cell_type": "code",
      "execution_count": 26,
      "metadata": {},
      "outputs": [
        {
          "name": "stdout",
          "output_type": "stream",
          "text": [
            "Columns dropped from Dataset 1: Index(['Content IDE', 'User IDE', 'Type', 'Category', 'URL'], dtype='object')\n",
            "Columns dropped from Dataset 2: Index(['Content IDE', 'User IDE', 'Type', 'Datetime'], dtype='object')\n",
            "Columns dropped from Dataset 3: Index(['Type', 'Sentiment', 'Score'], dtype='object')\n"
          ]
        }
      ],
      "source": [
        "# List of columns to drop (adjust as per your requirement)\n",
        "columns_to_drop = ['Unnamed: 0']\n",
        "\n",
        "# Drop columns from each dataset\n",
        "content = df1_cleaned.drop(columns=columns_to_drop, errors='ignore')\n",
        "reaction = df2_cleaned.drop(columns=columns_to_drop, errors='ignore')\n",
        "reaction_type = df3_cleaned.drop(columns=columns_to_drop, errors='ignore')\n",
        "\n",
        "# Print or further process cleaned datasets\n",
        "print(\"Columns dropped from Dataset 1:\", content.columns)\n",
        "print(\"Columns dropped from Dataset 2:\", reaction.columns)\n",
        "print(\"Columns dropped from Dataset 3:\", reaction_type.columns)"
      ]
    },
    {
      "cell_type": "code",
      "execution_count": 11,
      "metadata": {},
      "outputs": [],
      "source": [
        "# Save cleaned datasets if needed\n",
        "# df1_cleaned.to_csv('content.csv', index=False)\n",
        "# df2_cleaned.to_csv('reactions.csv', index=False)\n",
        "# df3_cleaned.to_csv('reaction_types.csv', index=False)"
      ]
    },
    {
      "cell_type": "markdown",
      "metadata": {},
      "source": [
        "### **Data Modelling**"
      ]
    },
    {
      "cell_type": "markdown",
      "metadata": {},
      "source": [
        "##### Drop Unused Columns"
      ]
    },
    {
      "cell_type": "code",
      "execution_count": 27,
      "metadata": {},
      "outputs": [
        {
          "name": "stdout",
          "output_type": "stream",
          "text": [
            "Drop Unused Columns Completed                               Content IDE   Type        Category  \\\n",
            "0    97522e57-d9ab-4bd6-97bf-c24d952602d2  photo        Studying   \n",
            "1    9f737e0a-3cdd-4d29-9d24-753f4e3be810  photo  healthy eating   \n",
            "2    230c4e4d-70c3-461d-b42c-ec09396efb3f  photo  healthy eating   \n",
            "3    356fff80-da4d-4785-9f43-bc1261031dc6  photo      technology   \n",
            "4    01ab84dd-6364-4236-abbb-3f237db77180  video            food   \n",
            "..                                    ...    ...             ...   \n",
            "994  c54b49c4-b1f2-4641-8595-1cbd19937845  photo         science   \n",
            "996  7a79f4e4-3b7d-44dc-bdef-bc990740252c    GIF      technology   \n",
            "997  435007a5-6261-4d8b-b0a4-55fdc189754b  audio        veganism   \n",
            "998  4e4c9690-c013-4ee7-9e66-943d8cbd27b7    GIF         culture   \n",
            "999  75d6b589-7fae-4a6d-b0d0-752845150e56  audio      technology   \n",
            "\n",
            "                                                   URL  \n",
            "0    https://socialbuzz.cdn.com/content/storage/975...  \n",
            "1    https://socialbuzz.cdn.com/content/storage/9f7...  \n",
            "2    https://socialbuzz.cdn.com/content/storage/230...  \n",
            "3    https://socialbuzz.cdn.com/content/storage/356...  \n",
            "4    https://socialbuzz.cdn.com/content/storage/01a...  \n",
            "..                                                 ...  \n",
            "994  https://socialbuzz.cdn.com/content/storage/c54...  \n",
            "996  https://socialbuzz.cdn.com/content/storage/7a7...  \n",
            "997  https://socialbuzz.cdn.com/content/storage/435...  \n",
            "998  https://socialbuzz.cdn.com/content/storage/4e4...  \n",
            "999  https://socialbuzz.cdn.com/content/storage/75d...  \n",
            "\n",
            "[801 rows x 4 columns]                                 Content IDE        Type          Datetime\n",
            "1      97522e57-d9ab-4bd6-97bf-c24d952602d2     disgust  07/11/2020 09.43\n",
            "2      97522e57-d9ab-4bd6-97bf-c24d952602d2     dislike  17/06/2021 12.22\n",
            "3      97522e57-d9ab-4bd6-97bf-c24d952602d2      scared  18/04/2021 05.13\n",
            "4      97522e57-d9ab-4bd6-97bf-c24d952602d2     disgust  06/01/2021 19.13\n",
            "5      97522e57-d9ab-4bd6-97bf-c24d952602d2  interested  23/08/2020 12.25\n",
            "...                                     ...         ...               ...\n",
            "25547  75d6b589-7fae-4a6d-b0d0-752845150e56     worried  31/10/2020 04.50\n",
            "25548  75d6b589-7fae-4a6d-b0d0-752845150e56     dislike  27/06/2020 09.46\n",
            "25549  75d6b589-7fae-4a6d-b0d0-752845150e56   intrigued  16/02/2021 17.17\n",
            "25551  75d6b589-7fae-4a6d-b0d0-752845150e56     worried  04/11/2020 20.08\n",
            "25552  75d6b589-7fae-4a6d-b0d0-752845150e56     cherish  04/01/2021 04.55\n",
            "\n",
            "[22534 rows x 3 columns]\n"
          ]
        }
      ],
      "source": [
        "# first drop\n",
        "unused_columns = ['User IDE']\n",
        "content = content.drop(unused_columns, axis = 1)\n",
        "reaction = reaction.drop(unused_columns, axis = 1)\n",
        "\n",
        "print(r'Drop Unused Columns Completed', content, reaction)"
      ]
    },
    {
      "cell_type": "code",
      "execution_count": 28,
      "metadata": {},
      "outputs": [
        {
          "name": "stdout",
          "output_type": "stream",
          "text": [
            "Drop Unused Columns Completed                               Content IDE   Type        Category\n",
            "0    97522e57-d9ab-4bd6-97bf-c24d952602d2  photo        Studying\n",
            "1    9f737e0a-3cdd-4d29-9d24-753f4e3be810  photo  healthy eating\n",
            "2    230c4e4d-70c3-461d-b42c-ec09396efb3f  photo  healthy eating\n",
            "3    356fff80-da4d-4785-9f43-bc1261031dc6  photo      technology\n",
            "4    01ab84dd-6364-4236-abbb-3f237db77180  video            food\n",
            "..                                    ...    ...             ...\n",
            "994  c54b49c4-b1f2-4641-8595-1cbd19937845  photo         science\n",
            "996  7a79f4e4-3b7d-44dc-bdef-bc990740252c    GIF      technology\n",
            "997  435007a5-6261-4d8b-b0a4-55fdc189754b  audio        veganism\n",
            "998  4e4c9690-c013-4ee7-9e66-943d8cbd27b7    GIF         culture\n",
            "999  75d6b589-7fae-4a6d-b0d0-752845150e56  audio      technology\n",
            "\n",
            "[801 rows x 3 columns]\n"
          ]
        }
      ],
      "source": [
        "# second drop\n",
        "unused_columns = ['URL']\n",
        "content = content.drop(unused_columns, axis = 1)\n",
        "\n",
        "print(r'Drop Unused Columns Completed', content)"
      ]
    },
    {
      "cell_type": "markdown",
      "metadata": {},
      "source": [
        "##### Changing Columns Dataset"
      ]
    },
    {
      "cell_type": "code",
      "execution_count": 29,
      "metadata": {},
      "outputs": [],
      "source": [
        "content.rename(columns={'Content IDE': 'Content ID'}, inplace=True)\n",
        "content.rename(columns={'Type': 'Content Type'}, inplace=True)\n",
        "reaction.rename(columns={'Content IDE': 'Content ID'}, inplace=True)\n",
        "reaction.rename(columns={'Type': 'Reaction Type'}, inplace=True)\n",
        "reaction_type.rename(columns={'Type': 'Reaction Type', 'Score': 'Reaction Score'}, inplace=True)"
      ]
    },
    {
      "cell_type": "code",
      "execution_count": 30,
      "metadata": {},
      "outputs": [
        {
          "data": {
            "text/html": [
              "<div>\n",
              "<style scoped>\n",
              "    .dataframe tbody tr th:only-of-type {\n",
              "        vertical-align: middle;\n",
              "    }\n",
              "\n",
              "    .dataframe tbody tr th {\n",
              "        vertical-align: top;\n",
              "    }\n",
              "\n",
              "    .dataframe thead th {\n",
              "        text-align: right;\n",
              "    }\n",
              "</style>\n",
              "<table border=\"1\" class=\"dataframe\">\n",
              "  <thead>\n",
              "    <tr style=\"text-align: right;\">\n",
              "      <th></th>\n",
              "      <th>Content ID</th>\n",
              "      <th>Reaction Type</th>\n",
              "      <th>Datetime</th>\n",
              "    </tr>\n",
              "  </thead>\n",
              "  <tbody>\n",
              "    <tr>\n",
              "      <th>1</th>\n",
              "      <td>97522e57-d9ab-4bd6-97bf-c24d952602d2</td>\n",
              "      <td>disgust</td>\n",
              "      <td>07/11/2020 09.43</td>\n",
              "    </tr>\n",
              "    <tr>\n",
              "      <th>2</th>\n",
              "      <td>97522e57-d9ab-4bd6-97bf-c24d952602d2</td>\n",
              "      <td>dislike</td>\n",
              "      <td>17/06/2021 12.22</td>\n",
              "    </tr>\n",
              "    <tr>\n",
              "      <th>3</th>\n",
              "      <td>97522e57-d9ab-4bd6-97bf-c24d952602d2</td>\n",
              "      <td>scared</td>\n",
              "      <td>18/04/2021 05.13</td>\n",
              "    </tr>\n",
              "    <tr>\n",
              "      <th>4</th>\n",
              "      <td>97522e57-d9ab-4bd6-97bf-c24d952602d2</td>\n",
              "      <td>disgust</td>\n",
              "      <td>06/01/2021 19.13</td>\n",
              "    </tr>\n",
              "    <tr>\n",
              "      <th>5</th>\n",
              "      <td>97522e57-d9ab-4bd6-97bf-c24d952602d2</td>\n",
              "      <td>interested</td>\n",
              "      <td>23/08/2020 12.25</td>\n",
              "    </tr>\n",
              "  </tbody>\n",
              "</table>\n",
              "</div>"
            ],
            "text/plain": [
              "                             Content ID Reaction Type          Datetime\n",
              "1  97522e57-d9ab-4bd6-97bf-c24d952602d2       disgust  07/11/2020 09.43\n",
              "2  97522e57-d9ab-4bd6-97bf-c24d952602d2       dislike  17/06/2021 12.22\n",
              "3  97522e57-d9ab-4bd6-97bf-c24d952602d2        scared  18/04/2021 05.13\n",
              "4  97522e57-d9ab-4bd6-97bf-c24d952602d2       disgust  06/01/2021 19.13\n",
              "5  97522e57-d9ab-4bd6-97bf-c24d952602d2    interested  23/08/2020 12.25"
            ]
          },
          "execution_count": 30,
          "metadata": {},
          "output_type": "execute_result"
        }
      ],
      "source": [
        "reaction.head()"
      ]
    },
    {
      "cell_type": "code",
      "execution_count": 31,
      "metadata": {},
      "outputs": [
        {
          "data": {
            "text/html": [
              "<div>\n",
              "<style scoped>\n",
              "    .dataframe tbody tr th:only-of-type {\n",
              "        vertical-align: middle;\n",
              "    }\n",
              "\n",
              "    .dataframe tbody tr th {\n",
              "        vertical-align: top;\n",
              "    }\n",
              "\n",
              "    .dataframe thead th {\n",
              "        text-align: right;\n",
              "    }\n",
              "</style>\n",
              "<table border=\"1\" class=\"dataframe\">\n",
              "  <thead>\n",
              "    <tr style=\"text-align: right;\">\n",
              "      <th></th>\n",
              "      <th>Reaction Type</th>\n",
              "      <th>Sentiment</th>\n",
              "      <th>Reaction Score</th>\n",
              "    </tr>\n",
              "  </thead>\n",
              "  <tbody>\n",
              "    <tr>\n",
              "      <th>0</th>\n",
              "      <td>heart</td>\n",
              "      <td>positive</td>\n",
              "      <td>60</td>\n",
              "    </tr>\n",
              "    <tr>\n",
              "      <th>1</th>\n",
              "      <td>want</td>\n",
              "      <td>positive</td>\n",
              "      <td>70</td>\n",
              "    </tr>\n",
              "    <tr>\n",
              "      <th>2</th>\n",
              "      <td>disgust</td>\n",
              "      <td>negative</td>\n",
              "      <td>0</td>\n",
              "    </tr>\n",
              "    <tr>\n",
              "      <th>3</th>\n",
              "      <td>hate</td>\n",
              "      <td>negative</td>\n",
              "      <td>5</td>\n",
              "    </tr>\n",
              "    <tr>\n",
              "      <th>4</th>\n",
              "      <td>interested</td>\n",
              "      <td>positive</td>\n",
              "      <td>30</td>\n",
              "    </tr>\n",
              "  </tbody>\n",
              "</table>\n",
              "</div>"
            ],
            "text/plain": [
              "  Reaction Type Sentiment  Reaction Score\n",
              "0         heart  positive              60\n",
              "1          want  positive              70\n",
              "2       disgust  negative               0\n",
              "3          hate  negative               5\n",
              "4    interested  positive              30"
            ]
          },
          "execution_count": 31,
          "metadata": {},
          "output_type": "execute_result"
        }
      ],
      "source": [
        "reaction_type.head()"
      ]
    },
    {
      "cell_type": "markdown",
      "metadata": {},
      "source": [
        "##### Merging Three Dataset Into One Dataset"
      ]
    },
    {
      "cell_type": "code",
      "execution_count": 32,
      "metadata": {},
      "outputs": [],
      "source": [
        "# Merging content, reaction, and reaction_type\n",
        "reaction_merged = pd.merge(reaction, reaction_type, on='Reaction Type', how='inner')\n",
        "content_reaction_merged = pd.merge(content, reaction_merged, on='Content ID', how='inner')"
      ]
    },
    {
      "cell_type": "code",
      "execution_count": 33,
      "metadata": {},
      "outputs": [
        {
          "data": {
            "text/html": [
              "<div>\n",
              "<style scoped>\n",
              "    .dataframe tbody tr th:only-of-type {\n",
              "        vertical-align: middle;\n",
              "    }\n",
              "\n",
              "    .dataframe tbody tr th {\n",
              "        vertical-align: top;\n",
              "    }\n",
              "\n",
              "    .dataframe thead th {\n",
              "        text-align: right;\n",
              "    }\n",
              "</style>\n",
              "<table border=\"1\" class=\"dataframe\">\n",
              "  <thead>\n",
              "    <tr style=\"text-align: right;\">\n",
              "      <th></th>\n",
              "      <th>Content ID</th>\n",
              "      <th>Content Type</th>\n",
              "      <th>Category</th>\n",
              "      <th>Reaction Type</th>\n",
              "      <th>Datetime</th>\n",
              "      <th>Sentiment</th>\n",
              "      <th>Reaction Score</th>\n",
              "    </tr>\n",
              "  </thead>\n",
              "  <tbody>\n",
              "    <tr>\n",
              "      <th>0</th>\n",
              "      <td>97522e57-d9ab-4bd6-97bf-c24d952602d2</td>\n",
              "      <td>photo</td>\n",
              "      <td>Studying</td>\n",
              "      <td>disgust</td>\n",
              "      <td>07/11/2020 09.43</td>\n",
              "      <td>negative</td>\n",
              "      <td>0</td>\n",
              "    </tr>\n",
              "    <tr>\n",
              "      <th>1</th>\n",
              "      <td>97522e57-d9ab-4bd6-97bf-c24d952602d2</td>\n",
              "      <td>photo</td>\n",
              "      <td>Studying</td>\n",
              "      <td>dislike</td>\n",
              "      <td>17/06/2021 12.22</td>\n",
              "      <td>negative</td>\n",
              "      <td>10</td>\n",
              "    </tr>\n",
              "    <tr>\n",
              "      <th>2</th>\n",
              "      <td>97522e57-d9ab-4bd6-97bf-c24d952602d2</td>\n",
              "      <td>photo</td>\n",
              "      <td>Studying</td>\n",
              "      <td>scared</td>\n",
              "      <td>18/04/2021 05.13</td>\n",
              "      <td>negative</td>\n",
              "      <td>15</td>\n",
              "    </tr>\n",
              "    <tr>\n",
              "      <th>3</th>\n",
              "      <td>97522e57-d9ab-4bd6-97bf-c24d952602d2</td>\n",
              "      <td>photo</td>\n",
              "      <td>Studying</td>\n",
              "      <td>disgust</td>\n",
              "      <td>06/01/2021 19.13</td>\n",
              "      <td>negative</td>\n",
              "      <td>0</td>\n",
              "    </tr>\n",
              "    <tr>\n",
              "      <th>4</th>\n",
              "      <td>97522e57-d9ab-4bd6-97bf-c24d952602d2</td>\n",
              "      <td>photo</td>\n",
              "      <td>Studying</td>\n",
              "      <td>interested</td>\n",
              "      <td>23/08/2020 12.25</td>\n",
              "      <td>positive</td>\n",
              "      <td>30</td>\n",
              "    </tr>\n",
              "  </tbody>\n",
              "</table>\n",
              "</div>"
            ],
            "text/plain": [
              "                             Content ID Content Type  Category Reaction Type  \\\n",
              "0  97522e57-d9ab-4bd6-97bf-c24d952602d2        photo  Studying       disgust   \n",
              "1  97522e57-d9ab-4bd6-97bf-c24d952602d2        photo  Studying       dislike   \n",
              "2  97522e57-d9ab-4bd6-97bf-c24d952602d2        photo  Studying        scared   \n",
              "3  97522e57-d9ab-4bd6-97bf-c24d952602d2        photo  Studying       disgust   \n",
              "4  97522e57-d9ab-4bd6-97bf-c24d952602d2        photo  Studying    interested   \n",
              "\n",
              "           Datetime Sentiment  Reaction Score  \n",
              "0  07/11/2020 09.43  negative               0  \n",
              "1  17/06/2021 12.22  negative              10  \n",
              "2  18/04/2021 05.13  negative              15  \n",
              "3  06/01/2021 19.13  negative               0  \n",
              "4  23/08/2020 12.25  positive              30  "
            ]
          },
          "execution_count": 33,
          "metadata": {},
          "output_type": "execute_result"
        }
      ],
      "source": [
        "content_reaction_merged.head()"
      ]
    },
    {
      "cell_type": "markdown",
      "metadata": {},
      "source": [
        "##### Saving Clean Dataset to CSV and XLSX Format"
      ]
    },
    {
      "cell_type": "code",
      "execution_count": 37,
      "metadata": {},
      "outputs": [],
      "source": [
        "content_reaction_merged.to_csv('D:\\ACCENTURE NORTH AMERICA\\Task 2\\Clean Dataset.csv', index=False)"
      ]
    },
    {
      "cell_type": "code",
      "execution_count": 38,
      "metadata": {},
      "outputs": [],
      "source": [
        "import openpyxl\n",
        "content_reaction_merged.to_excel('D:\\ACCENTURE NORTH AMERICA\\Task 2\\Clean Dataset.xlsx', index=False)"
      ]
    },
    {
      "cell_type": "markdown",
      "metadata": {},
      "source": [
        "##### Find Top 5 With Largest Popularity"
      ]
    },
    {
      "cell_type": "code",
      "execution_count": 39,
      "metadata": {},
      "outputs": [
        {
          "name": "stdout",
          "output_type": "stream",
          "text": [
            "Top 5 categories by popularity:\n",
            "          Category  Reaction Score\n",
            "15          travel           53935\n",
            "10         science           53657\n",
            "8   healthy eating           52745\n",
            "1          animals           52443\n",
            "2          cooking           49681\n"
          ]
        }
      ],
      "source": [
        "# Group by category and sum reaction scores\n",
        "category_popularity = content_reaction_merged.groupby('Category')['Reaction Score'].sum().reset_index()\n",
        "\n",
        "# Sort by reaction score in descending order\n",
        "category_popularity_sorted = category_popularity.sort_values(by='Reaction Score', ascending=False)\n",
        "\n",
        "# Get top 5 categories with largest popularity\n",
        "top_categories = category_popularity_sorted.head(5)\n",
        "\n",
        "print(\"Top 5 categories by popularity:\")\n",
        "print(top_categories)"
      ]
    },
    {
      "cell_type": "markdown",
      "metadata": {},
      "source": [
        "### **Data Analysis**"
      ]
    },
    {
      "cell_type": "markdown",
      "metadata": {},
      "source": [
        "We know that the client wants to understand the top 5 content categories. Have a think about what are the best ways to present this? In a pie chart? In a bar chart?\n",
        "\n",
        "There are also some other interesting insights that we might want to share with them. For example:\n",
        "\n",
        "* How many unique categories are there?\n",
        "* How many reactions are there to the most popular category?\n",
        "* What was the month with the most posts?"
      ]
    },
    {
      "cell_type": "code",
      "execution_count": 43,
      "metadata": {},
      "outputs": [],
      "source": [
        "import matplotlib.pyplot as plt\n",
        "import seaborn as sns"
      ]
    },
    {
      "cell_type": "markdown",
      "metadata": {},
      "source": [
        "**We know that the client wants to understand the top 5 content categories. Have a think about what are the best ways to present this? In a pie chart? In a bar chart?**"
      ]
    },
    {
      "cell_type": "code",
      "execution_count": 44,
      "metadata": {},
      "outputs": [
        {
          "data": {
            "image/png": "[encoded data removed]",
            "text/plain": [
              "<Figure size 640x480 with 1 Axes>"
            ]
          },
          "metadata": {},
          "output_type": "display_data"
        }
      ],
      "source": [
        "# bar chart\n",
        "\n",
        "top_5 = content_reaction_merged.groupby('Category')['Reaction Score'].sum().nlargest(5)\n",
        "top_5.plot(kind='bar', color='skyblue')\n",
        "plt.title('Top 5 Content Categories')\n",
        "plt.xlabel('Category')\n",
        "plt.ylabel('Total Score')\n",
        "plt.show()"
      ]
    },
    {
      "cell_type": "code",
      "execution_count": 45,
      "metadata": {},
      "outputs": [
        {
          "data": {
            "image/png": "[encoded data removed]",
            "text/plain": [
              "<Figure size 640x480 with 1 Axes>"
            ]
          },
          "metadata": {},
          "output_type": "display_data"
        }
      ],
      "source": [
        "# pie chart\n",
        "top_5.plot(kind='pie', autopct='%1.1f%%', startangle=140)\n",
        "plt.title('Top 5 Content Categories')\n",
        "plt.ylabel('')\n",
        "plt.show()"
      ]
    },
    {
      "cell_type": "markdown",
      "metadata": {},
      "source": []
    },
    {
      "cell_type": "markdown",
      "metadata": {},
      "source": [
        "**How many unique categories are there?**"
      ]
    },
    {
      "cell_type": "code",
      "execution_count": 46,
      "metadata": {},
      "outputs": [
        {
          "name": "stdout",
          "output_type": "stream",
          "text": [
            "Number of unique categories: 17\n"
          ]
        }
      ],
      "source": [
        "# Number of Unique Categories\n",
        "unique_categories = content_reaction_merged['Category'].nunique()\n",
        "print(f\"Number of unique categories: {unique_categories}\")"
      ]
    },
    {
      "cell_type": "markdown",
      "metadata": {},
      "source": [
        "**How many reactions are there to the most popular category?**"
      ]
    },
    {
      "cell_type": "code",
      "execution_count": 51,
      "metadata": {},
      "outputs": [
        {
          "data": {
            "text/plain": [
              "1368"
            ]
          },
          "execution_count": 51,
          "metadata": {},
          "output_type": "execute_result"
        }
      ],
      "source": [
        "# Find the most popular category and the number of reactions\n",
        "most_popular_category = content_reaction_merged['Category'].value_counts().idxmax()\n",
        "reactions_most_popular_category = content_reaction_merged[content_reaction_merged['Category'] == most_popular_category]['Reaction Type'].count()\n",
        "reactions_most_popular_category"
      ]
    },
    {
      "cell_type": "markdown",
      "metadata": {},
      "source": [
        "**What was the month with the most posts?**"
      ]
    },
    {
      "cell_type": "code",
      "execution_count": 52,
      "metadata": {},
      "outputs": [
        {
          "data": {
            "text/plain": [
              "Period('2020-08', 'M')"
            ]
          },
          "execution_count": 52,
          "metadata": {},
          "output_type": "execute_result"
        }
      ],
      "source": [
        "# Convert Datetime column to datetime format\n",
        "content_reaction_merged['Datetime'] = pd.to_datetime(content_reaction_merged['Datetime'], format='%d/%m/%Y %H.%M')\n",
        "\n",
        "# Extract month and year from the Datetime column\n",
        "content_reaction_merged['Month'] = content_reaction_merged['Datetime'].dt.to_period('M')\n",
        "\n",
        "# Find the month with the most posts\n",
        "most_posts_month = content_reaction_merged['Month'].value_counts().idxmax()\n",
        "most_posts_month"
      ]
    }
  ],
  "metadata": {
    "colab": {
      "provenance": []
    },
    "kernelspec": {
      "display_name": "Python 3",
      "name": "python3"
    },
    "language_info": {
      "codemirror_mode": {
        "name": "ipython",
        "version": 3
      },
      "file_extension": ".py",
      "mimetype": "text/x-python",
      "name": "python",
      "nbconvert_exporter": "python",
      "pygments_lexer": "ipython3",
      "version": "3.10.11"
    }
  },
  "nbformat": 4,
  "nbformat_minor": 0
}
